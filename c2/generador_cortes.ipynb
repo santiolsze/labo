{
 "cells": [
  {
   "cell_type": "code",
   "execution_count": 4,
   "id": "7568c37f",
   "metadata": {},
   "outputs": [],
   "source": [
    "import pandas as pd\n",
    "import numpy as np"
   ]
  },
  {
   "cell_type": "code",
   "execution_count": 5,
   "id": "ecf77582",
   "metadata": {},
   "outputs": [],
   "source": [
    "exp = \"KA7242\" "
   ]
  },
  {
   "cell_type": "code",
   "execution_count": 6,
   "id": "3d6d4707",
   "metadata": {},
   "outputs": [],
   "source": [
    "df = pd.read_csv(\"/home/santiago/Downloads/exp_KA7242_prediccion.tsv\", sep = \"\\t\")"
   ]
  },
  {
   "cell_type": "code",
   "execution_count": 7,
   "id": "c778186e",
   "metadata": {},
   "outputs": [],
   "source": [
    "df.sort_values(\"prob\", ascending = False, inplace = True)\n",
    "df.index = range(0,len(df))"
   ]
  },
  {
   "cell_type": "code",
   "execution_count": 8,
   "id": "a5a89916",
   "metadata": {},
   "outputs": [],
   "source": [
    "desde = 9200\n",
    "hasta = 9700\n",
    "n = 5\n",
    "cortes = [int(i) for i in np.linspace(desde,hasta,n)]"
   ]
  },
  {
   "cell_type": "code",
   "execution_count": 11,
   "id": "d7bab8b2",
   "metadata": {},
   "outputs": [],
   "source": [
    "cortes = [8425,8450,8475,8500,8530]"
   ]
  },
  {
   "cell_type": "code",
   "execution_count": 12,
   "id": "38a09776",
   "metadata": {},
   "outputs": [],
   "source": [
    "for corte in cortes:\n",
    "    df[\"Predicted\"] = 0\n",
    "    df.loc[0:corte-1,\"Predicted\"] = 1\n",
    "    df[[\"numero_de_cliente\",\"Predicted\"]].to_csv(f\"exp_{exp}_{exp}_{corte}.csv\",index = None)"
   ]
  },
  {
   "cell_type": "code",
   "execution_count": null,
   "id": "0a69c79c",
   "metadata": {},
   "outputs": [],
   "source": []
  },
  {
   "cell_type": "code",
   "execution_count": null,
   "id": "cd3f08f5",
   "metadata": {},
   "outputs": [],
   "source": []
  },
  {
   "cell_type": "code",
   "execution_count": null,
   "id": "c7e7d8df",
   "metadata": {},
   "outputs": [],
   "source": []
  },
  {
   "cell_type": "code",
   "execution_count": null,
   "id": "d6563b38",
   "metadata": {},
   "outputs": [],
   "source": []
  }
 ],
 "metadata": {
  "kernelspec": {
   "display_name": "Python 3 (ipykernel)",
   "language": "python",
   "name": "python3"
  },
  "language_info": {
   "codemirror_mode": {
    "name": "ipython",
    "version": 3
   },
   "file_extension": ".py",
   "mimetype": "text/x-python",
   "name": "python",
   "nbconvert_exporter": "python",
   "pygments_lexer": "ipython3",
   "version": "3.8.10"
  }
 },
 "nbformat": 4,
 "nbformat_minor": 5
}
