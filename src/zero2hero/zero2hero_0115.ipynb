{
 "cells": [
  {
   "cell_type": "markdown",
   "metadata": {},
   "source": [
    "# Zero to Hero"
   ]
  },
  {
   "cell_type": "markdown",
   "metadata": {},
   "source": [
    "## 1.15 Montecarlo Estimation, Arbol\n",
    "## En una funcion"
   ]
  },
  {
   "cell_type": "markdown",
   "metadata": {},
   "source": [
    "El objetivo es implementar con un for loop la estimacion montecarlo, que promedia las ganancias"
   ]
  },
  {
   "cell_type": "code",
   "execution_count": 1,
   "metadata": {},
   "outputs": [
    {
     "data": {
      "text/html": [
       "<table class=\"dataframe\">\n",
       "<caption>A matrix: 2 × 6 of type dbl</caption>\n",
       "<thead>\n",
       "\t<tr><th></th><th scope=col>used</th><th scope=col>(Mb)</th><th scope=col>gc trigger</th><th scope=col>(Mb)</th><th scope=col>max used</th><th scope=col>(Mb)</th></tr>\n",
       "</thead>\n",
       "<tbody>\n",
       "\t<tr><th scope=row>Ncells</th><td> 612165</td><td>32.7</td><td>1326338</td><td>70.9</td><td>1110285</td><td>59.3</td></tr>\n",
       "\t<tr><th scope=row>Vcells</th><td>1146085</td><td> 8.8</td><td>8388608</td><td>64.0</td><td>1801048</td><td>13.8</td></tr>\n",
       "</tbody>\n",
       "</table>\n"
      ],
      "text/latex": [
       "A matrix: 2 × 6 of type dbl\n",
       "\\begin{tabular}{r|llllll}\n",
       "  & used & (Mb) & gc trigger & (Mb) & max used & (Mb)\\\\\n",
       "\\hline\n",
       "\tNcells &  612165 & 32.7 & 1326338 & 70.9 & 1110285 & 59.3\\\\\n",
       "\tVcells & 1146085 &  8.8 & 8388608 & 64.0 & 1801048 & 13.8\\\\\n",
       "\\end{tabular}\n"
      ],
      "text/markdown": [
       "\n",
       "A matrix: 2 × 6 of type dbl\n",
       "\n",
       "| <!--/--> | used | (Mb) | gc trigger | (Mb) | max used | (Mb) |\n",
       "|---|---|---|---|---|---|---|\n",
       "| Ncells |  612165 | 32.7 | 1326338 | 70.9 | 1110285 | 59.3 |\n",
       "| Vcells | 1146085 |  8.8 | 8388608 | 64.0 | 1801048 | 13.8 |\n",
       "\n"
      ],
      "text/plain": [
       "       used    (Mb) gc trigger (Mb) max used (Mb)\n",
       "Ncells  612165 32.7 1326338    70.9 1110285  59.3\n",
       "Vcells 1146085  8.8 8388608    64.0 1801048  13.8"
      ]
     },
     "metadata": {},
     "output_type": "display_data"
    },
    {
     "name": "stderr",
     "output_type": "stream",
     "text": [
      "Loading required package: ggplot2\n",
      "\n",
      "Loading required package: lattice\n",
      "\n"
     ]
    }
   ],
   "source": [
    "rm( list=ls())\n",
    "gc()\n",
    "\n",
    "library(\"data.table\")   #cargo la libreria  data.table\n",
    "library(\"rpart\")  #cargo la libreria  rpart\n",
    "library(\"rpart.plot\")\n",
    "library(\"caret\")\n",
    "\n",
    "options(repr.plot.width=20, repr.plot.height=10) \n",
    "setwd(\"../../../\")  #Aqui se debe poner la ruta de la PC local"
   ]
  },
  {
   "cell_type": "markdown",
   "metadata": {},
   "source": [
    "La funcion que definimos en el notebook anterior"
   ]
  },
  {
   "cell_type": "code",
   "execution_count": 2,
   "metadata": {},
   "outputs": [],
   "source": [
    "GananciaArbol  <-  function( semilla, data, x, train=0.70) {\n",
    "  #establezco la semilla\n",
    "  set.seed(semilla)\n",
    "  train_rows <- createDataPartition(dataset$clase_ternaria, p= 0.70,list= FALSE)\n",
    "  \n",
    "  modelo <-  rpart::rpart(formula= \"clase_ternaria ~ .\" ,\n",
    "                          data= data[ train_rows],  #los datos de training\n",
    "                          xval= 0,\n",
    "                          control= x)\n",
    "    \n",
    "  #Aplico el modelo a los datos de testing  \n",
    "  prediccion  <- predict( modelo, data[ -train_rows], type = \"prob\")\n",
    "  \n",
    "  prob_baja2  <- prediccion[, \"BAJA+2\"]\n",
    "  ganancia_testing <- data[ -train_rows, sum(  (prob_baja2> 0.025) * ifelse( clase_ternaria==\"BAJA+2\", 78000, -2000) )]\n",
    "  \n",
    "  #normalizo la ganancia\n",
    "  ganancia_testing_normalizada  <- ganancia_testing/0.3  \n",
    "\n",
    "  return( ganancia_testing_normalizada )\n",
    "\n",
    "}"
   ]
  },
  {
   "cell_type": "code",
   "execution_count": 3,
   "metadata": {},
   "outputs": [],
   "source": [
    "ArbolMontecarlo <- function( semillas, data, x, train=0.70)\n",
    "{\n",
    "  vector_ganancias <- c()  #vector donde voy a ir acumulando las ganancias\n",
    "  for( semilla in ksemillas)\n",
    "  {\n",
    "    ganancia  <- GananciaArbol( semilla, dataset, x=x, train=0.70 )\n",
    "    vector_ganancias  <-  c( vector_ganancias, ganancia)\n",
    "  }\n",
    "    \n",
    "  return( mean( vector_ganancias))\n",
    "}"
   ]
  },
  {
   "cell_type": "code",
   "execution_count": 4,
   "metadata": {},
   "outputs": [],
   "source": [
    "dataset <- fread(\"./datasets/competencia1_2022.csv\")   #cargo el dataset #cargo el dataset\n",
    "dataset <- dataset[ foto_mes==202101 ]  # me quedo solo con el periodo 202101"
   ]
  },
  {
   "cell_type": "code",
   "execution_count": 7,
   "metadata": {},
   "outputs": [],
   "source": [
    "ksemillas  <- c(66607,66637,66647,66667,66697) #reemplazar por las propias semillas"
   ]
  },
  {
   "cell_type": "code",
   "execution_count": 9,
   "metadata": {},
   "outputs": [],
   "source": [
    "#defino el primer set de hiperparametros\n",
    "param1  <- list(\"cp\"= -0.5,\n",
    "                \"minsplit\"=  900,\n",
    "                \"minbucket\"= 440,\n",
    "                \"maxdepth\"= 5 )"
   ]
  },
  {
   "cell_type": "markdown",
   "metadata": {},
   "source": [
    "llamo a la fucion  ArbolMontecarlo con las 5 semillas de ksemillas"
   ]
  },
  {
   "cell_type": "code",
   "execution_count": 10,
   "metadata": {},
   "outputs": [],
   "source": [
    "ganancia_montecarlo1  <- ArbolMontecarlo( ksemillas, dataset, x= param1, train= 0.70 )"
   ]
  },
  {
   "cell_type": "code",
   "execution_count": 11,
   "metadata": {},
   "outputs": [],
   "source": [
    "#el SEGUNDO set de hiperparametros\n",
    "param2  <- list(\"cp\"= -0.5,\n",
    "                \"minsplit\"=  1340,\n",
    "                \"minbucket\"=  600,\n",
    "                \"maxdepth\"= 6 )"
   ]
  },
  {
   "cell_type": "code",
   "execution_count": 12,
   "metadata": {},
   "outputs": [],
   "source": [
    "ganancia_montecarlo2  <- ArbolMontecarlo( ksemillas, dataset, x= param2, train= 0.70 )"
   ]
  },
  {
   "cell_type": "code",
   "execution_count": 13,
   "metadata": {},
   "outputs": [
    {
     "data": {
      "text/html": [
       "19550666.6666667"
      ],
      "text/latex": [
       "19550666.6666667"
      ],
      "text/markdown": [
       "19550666.6666667"
      ],
      "text/plain": [
       "[1] 19550667"
      ]
     },
     "metadata": {},
     "output_type": "display_data"
    },
    {
     "data": {
      "text/html": [
       "19692000"
      ],
      "text/latex": [
       "19692000"
      ],
      "text/markdown": [
       "19692000"
      ],
      "text/plain": [
       "[1] 19692000"
      ]
     },
     "metadata": {},
     "output_type": "display_data"
    }
   ],
   "source": [
    "ganancia_montecarlo1\n",
    "ganancia_montecarlo2"
   ]
  },
  {
   "cell_type": "markdown",
   "metadata": {},
   "source": [
    "Segun este experimento, el primer juego de hiperparametros es mejor que el primero\n",
    "<br>\n",
    "¿Se cumplirá esto subiendo a Kaggle?\n",
    "<br>\n",
    "¿Qué sucede si en Kaggle funciona bastante mejor el segundo set de hiperparámetros?"
   ]
  }
 ],
 "metadata": {
  "kernelspec": {
   "display_name": "R",
   "language": "R",
   "name": "ir"
  },
  "language_info": {
   "codemirror_mode": "r",
   "file_extension": ".r",
   "mimetype": "text/x-r-source",
   "name": "R",
   "pygments_lexer": "r",
   "version": "4.2.1"
  }
 },
 "nbformat": 4,
 "nbformat_minor": 4
}
