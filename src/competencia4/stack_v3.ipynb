{
 "cells": [
  {
   "cell_type": "code",
   "execution_count": 1,
   "id": "90c561c0",
   "metadata": {},
   "outputs": [],
   "source": [
    "import os \n",
    "import pandas as pd\n",
    "import matplotlib.pyplot as plt\n",
    "import seaborn as sns\n",
    "import numpy as np"
   ]
  },
  {
   "cell_type": "code",
   "execution_count": 2,
   "id": "f9b34667",
   "metadata": {},
   "outputs": [],
   "source": [
    "# Macromodelos son aquellos con TS diferente (y todo lo demás también)\n",
    "macromodels = [\"4_01\",\"4_02\",\"4_04\"]\n",
    "# Models comparten TS, pero no hiperparámetros. \n",
    "models = [\"m1\",\"m2\"]"
   ]
  },
  {
   "cell_type": "code",
   "execution_count": 3,
   "id": "8b94b707",
   "metadata": {},
   "outputs": [],
   "source": [
    "# Esta lista acumula la agregación para cada macromodels\n",
    "dataframes_finales = []"
   ]
  },
  {
   "cell_type": "code",
   "execution_count": 4,
   "id": "82931505",
   "metadata": {},
   "outputs": [],
   "source": [
    "for macromodel in macromodels:\n",
    "    # Esta lista va a tener los resultados para cada modelo de un macromodelo\n",
    "    dataframes_subfinales = []\n",
    "    for model in models:\n",
    "        pred_dir = f\"{macromodel}/preds/\"\n",
    "        pred_files = [f\"{macromodel}/preds/{model}/\" + i for i in os.listdir(pred_dir + model)]\n",
    "        # En este for se combinan todas las predicciones\n",
    "        for n, pred_file in enumerate(pred_files):\n",
    "            if n == 0:\n",
    "                d = pd.read_csv(pred_file, sep = \"\\t\").drop(columns = [\"foto_mes\"]).rename(columns = {\"prob\":pred_file})\n",
    "            else:\n",
    "                d2 = pd.read_csv(pred_file, sep = \"\\t\").drop(columns = [\"foto_mes\"]).rename(columns = {\"prob\":pred_file})\n",
    "                d = pd.merge(d,d2, on = \"numero_de_cliente\", how = \"outer\")\n",
    "\n",
    "        d = d.transpose()\n",
    "        d.columns = d.loc[\"numero_de_cliente\"].astype(int).astype(str)\n",
    "        d = d.drop(\"numero_de_cliente\")\n",
    "        d =  d.rank(ascending = False,axis = 1)\n",
    "        \n",
    "        # Estoy promediando las semillas\n",
    "        d_final = pd.DataFrame(d.mean(axis = 0)).rename(columns = {\n",
    "            0 : f\"{macromodel}/{model}\"})\n",
    "        \n",
    "        dataframes_subfinales.append(d_final)\n",
    "    \n",
    "    marcomodel_final = dataframes_subfinales[0].merge(dataframes_subfinales[1],\n",
    "                    left_index = True, right_index = True)\n",
    "        \n",
    "        # Estoy agarrando el máximo dentro de los modelos \n",
    "    marcomodel_final = pd.DataFrame(marcomodel_final.max(axis = 1)).rename(columns = {\n",
    "            0 : f\"{macromodel}\"})\n",
    "    dataframes_finales.append(marcomodel_final)"
   ]
  },
  {
   "cell_type": "code",
   "execution_count": 5,
   "id": "03315c2f",
   "metadata": {},
   "outputs": [],
   "source": [
    "df = dataframes_finales[0]\n",
    "for df2 in dataframes_finales[1:]:\n",
    "    df = df.merge(df2, left_index = True, right_index = True)"
   ]
  },
  {
   "cell_type": "code",
   "execution_count": 6,
   "id": "baa6883f",
   "metadata": {},
   "outputs": [],
   "source": [
    "df_entrega = pd.DataFrame(df.mean(axis = 1)).sort_values(0).copy()"
   ]
  },
  {
   "cell_type": "code",
   "execution_count": 7,
   "id": "5933614a",
   "metadata": {},
   "outputs": [
    {
     "name": "stderr",
     "output_type": "stream",
     "text": [
      "/tmp/ipykernel_38868/1323354711.py:7: FutureWarning: Slicing a positional slice with .loc is not supported, and will raise TypeError in a future version.  Use .loc with labels or .iloc with positions instead.\n",
      "  df_entrega_envio.loc[0:n-1, \"Predicted\"] = 1\n"
     ]
    }
   ],
   "source": [
    "n_envios =np.linspace(4000,16000,33)\n",
    "for n in n_envios:\n",
    "    n = int(n)\n",
    "    nombre_entrega = f\"401y2y4_model1&2_rank_{n}e_mean_max_mean.csv\"\n",
    "    df_entrega_envio = df_entrega.copy()\n",
    "    df_entrega_envio[\"Predicted\"] = 0\n",
    "    df_entrega_envio.loc[0:n-1, \"Predicted\"] = 1\n",
    "    df_entrega_envio = df_entrega_envio.drop(columns = [0])\n",
    "    df_entrega_envio.to_csv(\"entregas/\"+nombre_entrega)"
   ]
  },
  {
   "cell_type": "code",
   "execution_count": null,
   "id": "22463b93",
   "metadata": {},
   "outputs": [],
   "source": []
  },
  {
   "cell_type": "code",
   "execution_count": null,
   "id": "d37d6d1a",
   "metadata": {},
   "outputs": [],
   "source": []
  },
  {
   "cell_type": "code",
   "execution_count": null,
   "id": "8a5a3f83",
   "metadata": {},
   "outputs": [],
   "source": []
  },
  {
   "cell_type": "code",
   "execution_count": null,
   "id": "7ca82015",
   "metadata": {},
   "outputs": [],
   "source": []
  },
  {
   "cell_type": "code",
   "execution_count": null,
   "id": "76cd339a",
   "metadata": {},
   "outputs": [],
   "source": []
  }
 ],
 "metadata": {
  "kernelspec": {
   "display_name": "Python 3 (ipykernel)",
   "language": "python",
   "name": "python3"
  },
  "language_info": {
   "codemirror_mode": {
    "name": "ipython",
    "version": 3
   },
   "file_extension": ".py",
   "mimetype": "text/x-python",
   "name": "python",
   "nbconvert_exporter": "python",
   "pygments_lexer": "ipython3",
   "version": "3.8.10"
  }
 },
 "nbformat": 4,
 "nbformat_minor": 5
}
