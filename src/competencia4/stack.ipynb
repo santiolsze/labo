{
 "cells": [
  {
   "cell_type": "code",
   "execution_count": 1,
   "id": "6eb50aaa",
   "metadata": {},
   "outputs": [],
   "source": [
    "import os \n",
    "import pandas as pd\n",
    "import matplotlib.pyplot as plt\n",
    "import seaborn as sns"
   ]
  },
  {
   "cell_type": "code",
   "execution_count": 2,
   "id": "d4db8fe7",
   "metadata": {},
   "outputs": [],
   "source": [
    "directory = \"4_01/preds/\"\n",
    "pred_files = os.listdir(directory)"
   ]
  },
  {
   "cell_type": "code",
   "execution_count": 3,
   "id": "c1b3b5e3",
   "metadata": {},
   "outputs": [],
   "source": [
    "for n, pred_file in enumerate(pred_files):\n",
    "    if n == 0:\n",
    "        d = pd.read_csv(directory + pred_file, sep = \"\\t\").drop(columns = [\"foto_mes\"]).rename(columns = {\"prob\":pred_file})\n",
    "    else:\n",
    "        d2 = pd.read_csv(directory + pred_file, sep = \"\\t\").drop(columns = [\"foto_mes\"]).rename(columns = {\"prob\":pred_file})\n",
    "        d = pd.merge(d,d2, on = \"numero_de_cliente\", how = \"outer\")"
   ]
  },
  {
   "cell_type": "code",
   "execution_count": 4,
   "id": "3008f7ff",
   "metadata": {},
   "outputs": [],
   "source": [
    "d = d.transpose()\n",
    "d.columns = d.loc[\"numero_de_cliente\"].astype(int).astype(str)\n",
    "d = d.drop(\"numero_de_cliente\")"
   ]
  },
  {
   "cell_type": "code",
   "execution_count": 5,
   "id": "0afc82f9",
   "metadata": {},
   "outputs": [],
   "source": [
    "d_ordered =  d.rank(ascending = False,axis = 1).reindex(d.max().sort_values(ascending = False).index, axis=1)"
   ]
  },
  {
   "cell_type": "code",
   "execution_count": 13,
   "id": "77866d4d",
   "metadata": {},
   "outputs": [
    {
     "data": {
      "text/plain": [
       "61848.0    1\n",
       "39574.0    1\n",
       "33543.0    1\n",
       "2479.0     4\n",
       "21401.0    1\n",
       "          ..\n",
       "95911.0    1\n",
       "1174.0     1\n",
       "61597.0    3\n",
       "95588.0    2\n",
       "57889.0    2\n",
       "Length: 89539, dtype: int64"
      ]
     },
     "execution_count": 13,
     "metadata": {},
     "output_type": "execute_result"
    }
   ],
   "source": [
    "d_ordered.min().value_counts(sort = False)"
   ]
  },
  {
   "cell_type": "code",
   "execution_count": 16,
   "id": "02063661",
   "metadata": {},
   "outputs": [],
   "source": [
    "ordered_by = \"max\"\n",
    "for n_envios in [4000,5000,6000,7000,8000,9000,10000]:\n",
    "    nombre_entrega = f\"401_model1&2_{ordered_by}_rank_{n_envios}e.csv\"\n",
    "    d_entrega  = pd.DataFrame({\"numero_de_cliente\" : d_ordered.columns, f\"{ordered_by}_rank\":d_ordered.max().values})\n",
    "    d_entrega[\"Predicted\"] = 0\n",
    "    d_entrega.loc[0:n_envios-1, \"Predicted\"] = 1\n",
    "    d_entrega.drop(f\"{ordered_by}_rank\", axis = 1, inplace = True)\n",
    "    d_entrega.to_csv(nombre_entrega, index = None)"
   ]
  },
  {
   "cell_type": "code",
   "execution_count": 253,
   "id": "6c9b0916",
   "metadata": {},
   "outputs": [],
   "source": []
  },
  {
   "cell_type": "code",
   "execution_count": 256,
   "id": "03c4d938",
   "metadata": {},
   "outputs": [],
   "source": []
  },
  {
   "cell_type": "code",
   "execution_count": null,
   "id": "2dec2ef4",
   "metadata": {},
   "outputs": [],
   "source": []
  },
  {
   "cell_type": "code",
   "execution_count": null,
   "id": "07facdeb",
   "metadata": {},
   "outputs": [],
   "source": []
  },
  {
   "cell_type": "code",
   "execution_count": null,
   "id": "074a046a",
   "metadata": {},
   "outputs": [],
   "source": []
  },
  {
   "cell_type": "code",
   "execution_count": null,
   "id": "2d964dc7",
   "metadata": {},
   "outputs": [],
   "source": []
  },
  {
   "cell_type": "code",
   "execution_count": null,
   "id": "8de9e5fb",
   "metadata": {},
   "outputs": [],
   "source": []
  },
  {
   "cell_type": "code",
   "execution_count": null,
   "id": "fc9d6b56",
   "metadata": {},
   "outputs": [],
   "source": []
  },
  {
   "cell_type": "code",
   "execution_count": null,
   "id": "47d9572a",
   "metadata": {},
   "outputs": [],
   "source": []
  }
 ],
 "metadata": {
  "kernelspec": {
   "display_name": "Python 3 (ipykernel)",
   "language": "python",
   "name": "python3"
  },
  "language_info": {
   "codemirror_mode": {
    "name": "ipython",
    "version": 3
   },
   "file_extension": ".py",
   "mimetype": "text/x-python",
   "name": "python",
   "nbconvert_exporter": "python",
   "pygments_lexer": "ipython3",
   "version": "3.8.10"
  }
 },
 "nbformat": 4,
 "nbformat_minor": 5
}
